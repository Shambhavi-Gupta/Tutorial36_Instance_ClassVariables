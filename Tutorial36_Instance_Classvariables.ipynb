{
  "nbformat": 4,
  "nbformat_minor": 0,
  "metadata": {
    "colab": {
      "name": "Tutorial36_Instance_Classvariables.ipynb",
      "provenance": [],
      "authorship_tag": "ABX9TyM9jPpzfIp97MFe9QdCcyFe",
      "include_colab_link": true
    },
    "kernelspec": {
      "name": "python3",
      "display_name": "Python 3"
    }
  },
  "cells": [
    {
      "cell_type": "markdown",
      "metadata": {
        "id": "view-in-github",
        "colab_type": "text"
      },
      "source": [
        "<a href=\"https://colab.research.google.com/github/Shambhavi-Gupta/Tutorial36_Instance_ClassVariables/blob/main/Tutorial36_Instance_Classvariables.ipynb\" target=\"_parent\"><img src=\"https://colab.research.google.com/assets/colab-badge.svg\" alt=\"Open In Colab\"/></a>"
      ]
    },
    {
      "cell_type": "code",
      "metadata": {
        "id": "J2-q23NRTN49"
      },
      "source": [
        "class Student:\r\n",
        "    no_of_subjects = 5\r\n",
        "    pass\r\n",
        "\r\n",
        "one = Student()\r\n",
        "two = Student()\r\n",
        "#one ans two are objects\r\n",
        "#name,standard,section are instance variables\r\n",
        "one.name = \"Riya\"\r\n",
        "one.standard = \"10\"\r\n",
        "one.section = \"A\"\r\n",
        "\r\n",
        "two.name = \"Seema\"\r\n",
        "two.standard = \"12\"\r\n",
        "two.section = \"B\"\r\n",
        "\r\n",
        "#print(one.section, two.section)\r\n",
        "#print(two.no_of_subjects)\r\n",
        "print(one.no_of_subjects)\r\n",
        "print(Student.__dict__ )\r\n",
        "one.no_of_subjects = 6\r\n",
        "print(Student.__dict__)\r\n",
        "print(Student.no_of_subjects)\r\n"
      ],
      "execution_count": null,
      "outputs": []
    }
  ]
}